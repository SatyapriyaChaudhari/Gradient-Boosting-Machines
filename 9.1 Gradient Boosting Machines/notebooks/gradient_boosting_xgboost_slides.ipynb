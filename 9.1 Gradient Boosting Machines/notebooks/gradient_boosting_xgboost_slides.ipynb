{
 "cells": [
  {
   "cell_type": "markdown",
   "metadata": {
    "slideshow": {
     "slide_type": "slide"
    }
   },
   "source": [
    "<h1 align=\"center\">Gradient Boosting and XGBoost</h1>"
   ]
  },
  {
   "cell_type": "markdown",
   "metadata": {
    "slideshow": {
     "slide_type": "slide"
    }
   },
   "source": [
    "## Program so far\n",
    "***\n",
    "- Linear and Logistic Regression\n",
    "- Decision Trees\n",
    "- Ensembling "
   ]
  },
  {
   "cell_type": "markdown",
   "metadata": {
    "slideshow": {
     "slide_type": "slide"
    }
   },
   "source": [
    "## John does it again\n",
    "***\n",
    "John was desperately looking for a pair of clothes when Lucius arrived to pick him up. Looking at the pile dirty laundry, Lucius couldn't stop himself but comment: \"John, why do you keep on making the same mistakes? It takes exactly 20 minutes to get your laundry done.\""
   ]
  },
  {
   "cell_type": "markdown",
   "metadata": {
    "slideshow": {
     "slide_type": "slide"
    }
   },
   "source": [
    "## John's thoughts\n",
    "***\n",
    "John started thinking aloud, wouldn't it be great if we could literally learn from our mistakes, and try to avoid/minimize it in the future?\n",
    "\n",
    "This thought rattled his mind, when he had forgotten the laundry for umpteenth time as he was busy building models.\n",
    "He wondered, whether this idea could be applied, to his just build model?\n",
    "That would surely be interesting, and his model would surely outperform him.\n",
    "\n",
    "To Lucius's frustration, John went berserk, and searched over the entire internet for such a thing, and when he found it, he was so happy.\n",
    "**BOOSTING**, he muttered."
   ]
  },
  {
   "cell_type": "markdown",
   "metadata": {
    "slideshow": {
     "slide_type": "slide"
    }
   },
   "source": [
    "<img src=\"../images/Concept-Alert.png\" alt=\"Concept-Alert\" style=\"width: 100px;float:left; margin-right:15px\"/>\n",
    "\n",
    "<br />\n",
    "\n",
    "## Boosting (1/3)\n",
    "***\n",
    "The idea of boosting came out of the idea of **whether a weak learner can be sequentially modified to become better.**\n",
    "\n",
    "\n",
    "Boosting (aka hypothesis boosting) refers to any Ensemble method that can combine several weak learners into a strong learner.\n",
    "\n",
    "The general idea of most boosting methods is to train predictors sequentially, each trying to correct its predecessor. "
   ]
  },
  {
   "cell_type": "markdown",
   "metadata": {
    "slideshow": {
     "slide_type": "subslide"
    }
   },
   "source": [
    "<img src=\"../images/Concept-Alert.png\" alt=\"Concept-Alert\" style=\"width: 100px;float:left; margin-right:15px\"/>\n",
    "\n",
    "<br />\n",
    "\n",
    "## Boosting (2/3)\n",
    "***\n",
    "Hypothesis boosting works by filtering observations, leaving those observations that the previous weak learners can handle and focusing on developing new weak learns to handle the remaining difficult observations.\n",
    "\n",
    "\n",
    "Boosting improves by reducing bias of every subsequent weak learner."
   ]
  },
  {
   "cell_type": "markdown",
   "metadata": {
    "slideshow": {
     "slide_type": "subslide"
    }
   },
   "source": [
    "<img src=\"../images/Concept-Alert.png\" alt=\"Concept-Alert\" style=\"width: 100px;float:left; margin-right:15px\"/>\n",
    "\n",
    "<br />\n",
    "\n",
    "## Boosting (3/3)\n",
    "***\n",
    "_The idea is to use the weak learning method several times to get a succession of hypotheses, each one refocused on the examples that the previous ones found difficult and misclassified._ "
   ]
  },
  {
   "cell_type": "markdown",
   "metadata": {
    "slideshow": {
     "slide_type": "subslide"
    }
   },
   "source": [
    "## Boosting Intuition\n",
    "***\n",
    "This far into the intro and the mathematician in Lucius started taking over. We will go partying some other time, thought Lucius, as this is a matter of utmost importance. No wonder both John and Lucius were both single!\n",
    "\n",
    "Lucius started reading and explaining: Let's say we have been given a binary classification problem as shown in the boxes "
   ]
  },
  {
   "cell_type": "markdown",
   "metadata": {
    "slideshow": {
     "slide_type": "subslide"
    }
   },
   "source": [
    "<img src=\"../images/Concept-Alert.png\" alt=\"Concept-Alert\" style=\"width: 100px;float:left; margin-right:15px\"/>\n",
    "\n",
    "<br />\n",
    "\n",
    "## How Boosting Works\n",
    "***\n",
    "\n",
    "![](../images/image21.png)\n",
    "\n",
    "\n",
    "**Step 1.1:**\n",
    "We start with box 1, we employ a weak learner which creates a boundary D1, which predicts blue region as positive and red region as negative."
   ]
  },
  {
   "cell_type": "markdown",
   "metadata": {
    "slideshow": {
     "slide_type": "subslide"
    }
   },
   "source": [
    "<img src=\"../images/Concept-Alert.png\" alt=\"Concept-Alert\" style=\"width: 100px;float:left; margin-right:15px\"/>\n",
    "\n",
    "<br />\n",
    "\n",
    "## How Boosting Works\n",
    "***\n",
    "\n",
    "![](../images/image21.png)\n",
    "\n",
    "\n",
    "**Step 1.2:**\n",
    "Hence, we have identified 2 observations on the left hand side correctly positive, but we marked three positive observations on the right side incorrectly.\n",
    "\n",
    "\n"
   ]
  },
  {
   "cell_type": "markdown",
   "metadata": {
    "slideshow": {
     "slide_type": "subslide"
    }
   },
   "source": [
    "<img src=\"../images/Concept-Alert.png\" alt=\"Concept-Alert\" style=\"width: 100px;float:left; margin-right:15px\"/>\n",
    "\n",
    "<br />\n",
    "\n",
    "## How Boosting Works\n",
    "***\n",
    "\n",
    "![](../images/image21.png)\n",
    "\n",
    "\n",
    "**Step 2.1:**\n",
    "We come to box 2.\n",
    "We employ another weak learner. But this time we pay more attention to classify the three positive observations (enlarged +) that we predicted incorrectly.\n"
   ]
  },
  {
   "cell_type": "markdown",
   "metadata": {
    "slideshow": {
     "slide_type": "subslide"
    }
   },
   "source": [
    "<img src=\"../images/Concept-Alert.png\" alt=\"Concept-Alert\" style=\"width: 100px;float:left; margin-right:15px\"/>\n",
    "\n",
    "<br />\n",
    "\n",
    "## How Boosting Works\n",
    "***\n",
    "\n",
    "![](../images/image21.png)\n",
    "\n",
    "\n",
    "**Step 2.2:**\n",
    "The learner comes up with the boundary D2, which correctly identifies previously wrongly predicted observations.\n",
    "However, this time it wrongly predicts 3 negative observations as positives (- in blues region)\n",
    "\n",
    "\n"
   ]
  },
  {
   "cell_type": "markdown",
   "metadata": {
    "slideshow": {
     "slide_type": "subslide"
    }
   },
   "source": [
    "<img src=\"../images/Concept-Alert.png\" alt=\"Concept-Alert\" style=\"width: 100px;float:left; margin-right:15px\"/>\n",
    "\n",
    "<br />\n",
    "\n",
    "## How Boosting Works\n",
    "***\n",
    "\n",
    "![](../images/image21.png)\n",
    "\n",
    "**Step 3.1:**\n",
    "We move on to box 3.\n",
    "This time, the objective is to identify the 3 negative observations (enlarged --) correctly.\n",
    "\n",
    "\n"
   ]
  },
  {
   "cell_type": "markdown",
   "metadata": {
    "slideshow": {
     "slide_type": "subslide"
    }
   },
   "source": [
    "<img src=\"../images/Concept-Alert.png\" alt=\"Concept-Alert\" style=\"width: 100px;float:left; margin-right:15px\"/>\n",
    "\n",
    "<br />\n",
    "\n",
    "## How Boosting Works\n",
    "***\n",
    "\n",
    "![](../images/image21.png)\n",
    "\n",
    "**Step 3.2:**\n",
    "The weak learner comes up with boundary D3, which identifies the three \"-\" correctly as negatives.\n",
    "\n",
    "\n"
   ]
  },
  {
   "cell_type": "markdown",
   "metadata": {
    "slideshow": {
     "slide_type": "subslide"
    }
   },
   "source": [
    "<img src=\"../images/Concept-Alert.png\" alt=\"Concept-Alert\" style=\"width: 100px;float:left; margin-right:15px\"/>\n",
    "\n",
    "<br />\n",
    "\n",
    "## How Boosting Works\n",
    "***\n",
    "\n",
    "![](../images/image21.png)\n",
    "\n",
    "**Step 4:**\n",
    "We combine all the boundaries to come with the boosting model which is a strong learner, made up of weak rules."
   ]
  },
  {
   "cell_type": "markdown",
   "metadata": {
    "slideshow": {
     "slide_type": "subslide"
    }
   },
   "source": [
    "## Types of Boosting\n",
    "***\n",
    "\"But how to perform boosting?\" wondered Lucius, and turned to the best teacher in the world: The internet.\n",
    "\n",
    "There are many types of Boosting, said the internet, however the most popular ones are :\n",
    "\n",
    "* AdaBoost (**Ada**ptive **Boost**ing)\n",
    "* Gradient Boosting\n",
    "\n",
    "Let me tell you more about these"
   ]
  },
  {
   "cell_type": "markdown",
   "metadata": {
    "slideshow": {
     "slide_type": "subslide"
    }
   },
   "source": [
    "## AdaBoost\n",
    "***\n",
    "AdaBoost is one of the first boosting algorithms to be adapted in solving practices. Adaboost helps you **combine multiple “weak classifiers” into a single “strong classifier”**. Here are some (fun) facts about Adaboost!\n",
    "\n",
    "* The weak learners in AdaBoost are decision trees with a single split, called decision stumps.\n",
    "* AdaBoost works by putting more weight on difficult to classify instances and less on those already handled well.\n",
    "* AdaBoost algorithms can be used for both classification and regression problem."
   ]
  },
  {
   "cell_type": "markdown",
   "metadata": {
    "slideshow": {
     "slide_type": "subslide"
    }
   },
   "source": [
    "<img src=\"../images/Maths-Insight.png\" alt=\"Maths-Insight\" style=\"width: 100px;float:left; margin-right:15px\"/>\n",
    "\n",
    "<br />\n",
    "\n",
    "## Math behind AdaBoost \n",
    "***\n",
    "Lucius ran and brought some papers and a pen to quickly go through the math behind Adaboost, so that he can explain it to John. It went something like this. "
   ]
  },
  {
   "attachments": {
    "image20.png": {
     "image/png": "[encoded data removed]"
    }
   },
   "cell_type": "markdown",
   "metadata": {
    "slideshow": {
     "slide_type": "subslide"
    }
   },
   "source": [
    "<img src=\"../images/Maths-Insight.png\" alt=\"Maths-Insight\" style=\"width: 100px;float:left; margin-right:15px\"/>\n",
    "\n",
    "<br />\n",
    "\n",
    "## Math behind AdaBoost \n",
    "***\n",
    "Suppose we are given a training set D = {(x1, y1),(x2, y2)...(xn, yn)}, where xi ∈ RD and y ∈ {+1, −1}. \n",
    "Our weak classifiers are functions h : x → y. The strong classifier has the following form:\n",
    "![image20.png](attachment:image20.png)\n",
    "\n",
    "We want to figure out how to choose the T weak classifiers h<sub>k</sub>."
   ]
  },
  {
   "attachments": {
    "image27.png": {
     "image/png": "[encoded data removed]"
    }
   },
   "cell_type": "markdown",
   "metadata": {
    "slideshow": {
     "slide_type": "subslide"
    }
   },
   "source": [
    "<img src=\"../images/Maths-Insight.png\" alt=\"Maths-Insight\" style=\"width: 100px;float:left; margin-right:15px\"/>\n",
    "\n",
    "<br />\n",
    "\n",
    "## Math behind AdaBoost \n",
    "***\n",
    "We want minimize the exponential loss.\n",
    "The exponential loss function is\n",
    "![image27.png](attachment:image27.png)\n",
    "\n",
    "\n",
    "We are using exponential loss function instead of 1/0 loss function, because it is differentiable.\n",
    "\n"
   ]
  },
  {
   "attachments": {
    "image26.png": {
     "image/png": "[encoded data removed]"
    }
   },
   "cell_type": "markdown",
   "metadata": {
    "slideshow": {
     "slide_type": "subslide"
    }
   },
   "source": [
    "<img src=\"../images/Maths-Insight.png\" alt=\"Maths-Insight\" style=\"width: 100px;float:left; margin-right:15px\"/>\n",
    "\n",
    "<br />\n",
    "\n",
    "## Math behind AdaBoost \n",
    "***\n",
    "Suppose we have the first t weak classifiers, and now we are interested in choosing h<sub>t+1</sub> and the corresponding weight α<sub>t+1</sub>.\n",
    "We can pose the t + 1 iteration of AdaBoost as the following optimization:\n",
    " \n",
    "![image26.png](attachment:image26.png)"
   ]
  },
  {
   "attachments": {
    "image28.png": {
     "image/png": "[encoded data removed]"
    }
   },
   "cell_type": "markdown",
   "metadata": {
    "slideshow": {
     "slide_type": "subslide"
    }
   },
   "source": [
    "<img src=\"../images/Maths-Insight.png\" alt=\"Maths-Insight\" style=\"width: 100px;float:left; margin-right:15px\"/>\n",
    "\n",
    "<br />\n",
    "\n",
    "## Math behind AdaBoost \n",
    "***\n",
    "Note that the factor e<sup>−yiHt(xi)</sup> does not depend on the arguments of the min operation \n",
    "So we can regard it as a constant, which we can think of as a weight for each point at iteration t which we will denote w<sub>t</sub>(i).\n",
    "\n",
    "Let’s continue to manipulate the algebra:\n",
    "\n",
    "![image28.png](attachment:image28.png)\n"
   ]
  },
  {
   "attachments": {
    "image22.png": {
     "image/png": "[encoded data removed]"
    },
    "image25.png": {
     "image/png": "[encoded data removed]"
    }
   },
   "cell_type": "markdown",
   "metadata": {
    "slideshow": {
     "slide_type": "subslide"
    }
   },
   "source": [
    "<img src=\"../images/Maths-Insight.png\" alt=\"Maths-Insight\" style=\"width: 100px;float:left; margin-right:15px\"/>\n",
    "\n",
    "<br />\n",
    "\n",
    "## Math behind AdaBoost \n",
    "***\n",
    "We can see that h<sub>t+1</sub> =  arg min<sub>t</sub>![image25.png](attachment:image25.png) \n",
    "Let 𝜖t = ![image25.png](attachment:image25.png)\n",
    "We must solve the following equation :\n",
    "![image22.png](attachment:image22.png)"
   ]
  },
  {
   "attachments": {
    "image23.png": {
     "image/png": "[encoded data removed]"
    },
    "image35.png": {
     "image/png": "[encoded data removed]"
    }
   },
   "cell_type": "markdown",
   "metadata": {
    "slideshow": {
     "slide_type": "subslide"
    }
   },
   "source": [
    "<img src=\"../images/Maths-Insight.png\" alt=\"Maths-Insight\" style=\"width: 100px;float:left; margin-right:15px\"/>\n",
    "\n",
    "<br />\n",
    "\n",
    "## Math behind AdaBoost\n",
    "***\n",
    "\n",
    "![image35.png](attachment:image35.png)\n",
    "\n",
    "With a bit more manipulation we can prove that :\n",
    "![image23.png](attachment:image23.png)"
   ]
  },
  {
   "cell_type": "markdown",
   "metadata": {
    "slideshow": {
     "slide_type": "subslide"
    }
   },
   "source": [
    "<img src=\"../images/Maths-Insight.png\" alt=\"Maths-Insight\" style=\"width: 100px;float:left; margin-right:15px\"/>\n",
    "\n",
    "<br />\n",
    "\n",
    "## Math behind AdaBoost\n",
    "\n",
    "***\n",
    "* As you can see, this sequential learning technique has some similarities with Gradient Descent, \n",
    "* However,  instead of tweaking a single predictor’s parameters to minimize a cost function, AdaBoost adds predictors to the ensemble, gradually making it better.\n",
    "* Once all predictors are trained, the ensemble makes predictions very much like bagging or pasting, except that predictors have different weights depending on their overall accuracy on the weighted training set.\n"
   ]
  },
  {
   "cell_type": "markdown",
   "metadata": {
    "slideshow": {
     "slide_type": "subslide"
    }
   },
   "source": [
    "<img src=\"../images/Maths-Insight.png\" alt=\"Maths-Insight\" style=\"width: 100px;float:left; margin-right:15px\"/>\n",
    "\n",
    "<br />\n",
    "\n",
    "## AdaBoost Algorithm\n",
    "***\n",
    "\n",
    "![](../images/image35.png)"
   ]
  },
  {
   "cell_type": "markdown",
   "metadata": {
    "slideshow": {
     "slide_type": "subslide"
    }
   },
   "source": [
    "<img src=\"../images/Technical-Stuff.png\" alt=\"Technical-Stuff\" style=\"width: 100px;float:left; margin-right:15px\"/>\n",
    "\n",
    "<br />\n",
    "\n",
    "## Adaboost in `sklearn`\n",
    "***"
   ]
  },
  {
   "cell_type": "code",
   "execution_count": 1,
   "metadata": {
    "slideshow": {
     "slide_type": "subslide"
    }
   },
   "outputs": [
    {
     "data": {
      "text/plain": [
       "AdaBoostClassifier(base_estimator=DecisionTreeClassifier(max_depth=1),\n",
       "                   learning_rate=0.5, n_estimators=200, random_state=42)"
      ]
     },
     "execution_count": 1,
     "metadata": {},
     "output_type": "execute_result"
    }
   ],
   "source": [
    "from sklearn.model_selection import train_test_split\n",
    "from sklearn.datasets import make_moons\n",
    "from sklearn.ensemble import AdaBoostClassifier\n",
    "from sklearn.tree import DecisionTreeClassifier\n",
    "\n",
    "X, y = make_moons(n_samples=500, noise=0.30, random_state=42)\n",
    "X_train, X_test, y_train, y_test = train_test_split(X, y, random_state=42)\n",
    "\n",
    "ada_clf = AdaBoostClassifier(DecisionTreeClassifier(max_depth=1), \n",
    "                             n_estimators=200,\n",
    "                             algorithm=\"SAMME.R\", \n",
    "                             learning_rate=0.5, \n",
    "                             random_state=42)\n",
    "ada_clf.fit(X_train, y_train)"
   ]
  },
  {
   "cell_type": "markdown",
   "metadata": {
    "slideshow": {
     "slide_type": "subslide"
    }
   },
   "source": [
    "## Need for generalization\n",
    "***\n",
    "John was thrilled to learn the Adaboost algorithm, but something was not quite right. Adaboost can only be possible if use `exponential loss` function as the loss function. What if we wanted to use an arbitrary loss function? Let's say MSE or f1 score?\n",
    "\n",
    "This is where Gradient Boosting Machine comes in, said Lucius, after finishing his long read."
   ]
  },
  {
   "cell_type": "markdown",
   "metadata": {
    "slideshow": {
     "slide_type": "subslide"
    }
   },
   "source": [
    "## Generalizing Boosting: Gradient Boosting Introduction (1/2)\n",
    "***\n",
    "**GBM is a generalized version of AdaBoosting.**\n",
    "\n",
    "Just like AdaBoost, Gradient Boosting works by sequentially adding predictors to an ensemble, each one correcting its predecessor. "
   ]
  },
  {
   "cell_type": "markdown",
   "metadata": {
    "slideshow": {
     "slide_type": "subslide"
    }
   },
   "source": [
    "## Generalizing Boosting: Gradient Boosting Introduction (2/2)\n",
    "***\n",
    "However, instead of tweaking the instance weights at every iteration like AdaBoost does, **this method tries to fit the new predictor to the residual errors made by the previous predictor.**\n",
    "\n",
    "A benefit of the gradient boosting framework is that a new boosting algorithm **does not have to be derived for each loss function that may want to be used, instead, it is generic enough framework so that any differentiable loss function can be used.**"
   ]
  },
  {
   "cell_type": "markdown",
   "metadata": {
    "slideshow": {
     "slide_type": "subslide"
    }
   },
   "source": [
    "<img src=\"../images/Technical-Stuff.png\" alt=\"Technical-Stuff\" style=\"width: 100px;float:left; margin-right:15px\"/>\n",
    "\n",
    "<br />\n",
    "\n",
    "## Gradient Boosting Algorithm Intuition\n",
    "***\n",
    "GBM uses Gradient Descent to find the shortcomings in the previous learner's predictions.\n",
    "\n",
    "\n",
    "Let's understand GBM using a toy regression data. \n",
    "If the loss function is MSE, then gradients are the residuals.\n",
    "In such a case, the GBM algorithm can be given by following steps.\n",
    "\n",
    "* Fit a model to the data,  F1(x) = y\n",
    "* Fit a model to the residuals,  h1(x) = y−F1(x)\n",
    "* Create a new model,  F2(x) = F1(x) + h1(x)\n",
    "\n",
    "Let's understand this using an example."
   ]
  },
  {
   "cell_type": "markdown",
   "metadata": {
    "slideshow": {
     "slide_type": "subslide"
    }
   },
   "source": [
    "## Gradient Boosting Algorithm Intuition\n",
    "***\n",
    "We start by making a dataset which roughly follows the relationship $y = 3x^2$"
   ]
  },
  {
   "cell_type": "code",
   "execution_count": 2,
   "metadata": {
    "slideshow": {
     "slide_type": "subslide"
    }
   },
   "outputs": [],
   "source": [
    "import numpy as np\n",
    "import matplotlib.pyplot as plt\n",
    "\n",
    "np.random.seed(42)\n",
    "X = np.random.rand(100, 1) - 0.5\n",
    "y = 3*X[:, 0]**2 + 0.05 * np.random.randn(100)"
   ]
  },
  {
   "cell_type": "markdown",
   "metadata": {
    "slideshow": {
     "slide_type": "subslide"
    }
   },
   "source": [
    "## Gradient Boosting Algorithm Intuition\n",
    "***\n",
    "Now let's write a function to plot the models that we are going to train on the original data as well as the residuals. If this seems confusing, don't worry, you will get a better idea once we start fitting the models."
   ]
  },
  {
   "cell_type": "code",
   "execution_count": 3,
   "metadata": {
    "slideshow": {
     "slide_type": "subslide"
    }
   },
   "outputs": [],
   "source": [
    "def plot_predictions(regressors, X, y, axes, label=None, style=\"r-\", data_style=\"b.\", data_label=None):\n",
    "    x1 = np.linspace(axes[0], axes[1], 500)\n",
    "    y_pred = sum(regressor.predict(x1.reshape(-1, 1)) for regressor in regressors)\n",
    "    plt.plot(X[:, 0], y, data_style, label=data_label)\n",
    "    plt.plot(x1, y_pred, style, linewidth=2, label=label)\n",
    "    if label or data_label:\n",
    "        plt.legend(loc=\"upper center\", fontsize=16)\n",
    "    plt.axis(axes)"
   ]
  },
  {
   "cell_type": "markdown",
   "metadata": {
    "slideshow": {
     "slide_type": "subslide"
    }
   },
   "source": [
    "## Gradient Boosting Algorithm Intuition\n",
    "***\n",
    "Now let's fit the first decision tree as usual on the data, find out the residuals for each point and save them in a variable called y2."
   ]
  },
  {
   "cell_type": "code",
   "execution_count": 4,
   "metadata": {
    "slideshow": {
     "slide_type": "subslide"
    }
   },
   "outputs": [],
   "source": [
    "from sklearn.tree import DecisionTreeRegressor\n",
    "\n",
    "tree_reg1 = DecisionTreeRegressor(max_depth=2, random_state=42)\n",
    "tree_reg1.fit(X, y)\n",
    "y2 = y - tree_reg1.predict(X)"
   ]
  },
  {
   "cell_type": "markdown",
   "metadata": {
    "slideshow": {
     "slide_type": "subslide"
    }
   },
   "source": [
    "## Gradient Boosting Algorithm Intuition\n",
    "***\n",
    "Plotting the decision boundary looks something like this."
   ]
  },
  {
   "cell_type": "code",
   "execution_count": 5,
   "metadata": {
    "slideshow": {
     "slide_type": "subslide"
    }
   },
   "outputs": [
    {
     "data": {
      "image/png": "[encoded data removed]",
      "text/plain": [
       "<Figure size 432x288 with 1 Axes>"
      ]
     },
     "metadata": {
      "needs_background": "light"
     },
     "output_type": "display_data"
    }
   ],
   "source": [
    "plt.figure(figsize=(6,4))\n",
    "plot_predictions([tree_reg1], X, y, axes=[-0.5, 0.5, -0.1, 0.8], label=\"$h(x_1) = h_1(x_1)$\", data_label=\"Training set\")\n",
    "plt.ylabel(\"$y$\", fontsize=16, rotation=0)\n",
    "plt.title(\"Ensemble predictions\", fontsize=16)\n",
    "\n",
    "plt.show()"
   ]
  },
  {
   "cell_type": "markdown",
   "metadata": {
    "slideshow": {
     "slide_type": "subslide"
    }
   },
   "source": [
    "## Gradient Boosting Algorithm Intuition\n",
    "***\n",
    "Now, as mentioned before, GBM fits models sequentially to correct the errors by the previously fit models. So, let's fit the next model on the residuals (y2) and X. Also, we will calculate the errors made by this model, and save it in y3."
   ]
  },
  {
   "cell_type": "code",
   "execution_count": 6,
   "metadata": {
    "slideshow": {
     "slide_type": "subslide"
    }
   },
   "outputs": [],
   "source": [
    "tree_reg2 = DecisionTreeRegressor(max_depth=2, random_state=42)\n",
    "tree_reg2.fit(X, y2)\n",
    "y3 = y2 - tree_reg2.predict(X)"
   ]
  },
  {
   "cell_type": "markdown",
   "metadata": {
    "slideshow": {
     "slide_type": "subslide"
    }
   },
   "source": [
    "## Gradient Boosting Algorithm Intuition\n",
    "***\n",
    "Now, the graph on the left hand side shows how the second model fits the model on the residuals.\n",
    "\n",
    "The graph on the right hand side shows the collective predictions made by 1st and 2nd model on the original data. As can we can notice, the fit is better than just the first model."
   ]
  },
  {
   "cell_type": "code",
   "execution_count": 7,
   "metadata": {
    "slideshow": {
     "slide_type": "subslide"
    }
   },
   "outputs": [
    {
     "data": {
      "image/png": "[encoded data removed]",
      "text/plain": [
       "<Figure size 864x288 with 2 Axes>"
      ]
     },
     "metadata": {
      "needs_background": "light"
     },
     "output_type": "display_data"
    }
   ],
   "source": [
    "plt.figure(figsize=(12,4))\n",
    "\n",
    "plt.subplot(121)\n",
    "plot_predictions([tree_reg2], X, y2, axes=[-0.5, 0.5, -0.5, 0.5], label=\"$h_2(x_1)$\", style=\"g-\", data_style=\"k+\", data_label=\"Residuals\")\n",
    "plt.ylabel(\"$y - h_1(x_1)$\", fontsize=16)\n",
    "\n",
    "plt.subplot(122)\n",
    "plot_predictions([tree_reg1, tree_reg2], X, y, axes=[-0.5, 0.5, -0.1, 0.8], label=\"$h(x_1) = h_1(x_1) + h_2(x_1)$\")\n",
    "plt.ylabel(\"$y$\", fontsize=16, rotation=0)\n",
    "\n",
    "plt.show()"
   ]
  },
  {
   "cell_type": "markdown",
   "metadata": {
    "slideshow": {
     "slide_type": "subslide"
    }
   },
   "source": [
    "## Gradient Boosting Algorithm Intuition\n",
    "***\n",
    "Now, let's repeat the same process for y3. We will be fitting just 3 sequential models, so we will not calculate the errors by the third model."
   ]
  },
  {
   "cell_type": "code",
   "execution_count": 8,
   "metadata": {
    "slideshow": {
     "slide_type": "subslide"
    }
   },
   "outputs": [
    {
     "data": {
      "text/plain": [
       "DecisionTreeRegressor(max_depth=2, random_state=42)"
      ]
     },
     "execution_count": 8,
     "metadata": {},
     "output_type": "execute_result"
    }
   ],
   "source": [
    "tree_reg3 = DecisionTreeRegressor(max_depth=2, random_state=42)\n",
    "tree_reg3.fit(X, y3)"
   ]
  },
  {
   "cell_type": "markdown",
   "metadata": {
    "slideshow": {
     "slide_type": "subslide"
    }
   },
   "source": [
    "## Gradient Boosting Algorithm Intuition\n",
    "***\n",
    "Predicting a token value."
   ]
  },
  {
   "cell_type": "code",
   "execution_count": 9,
   "metadata": {
    "slideshow": {
     "slide_type": "subslide"
    }
   },
   "outputs": [
    {
     "data": {
      "text/plain": [
       "array([0.75026781])"
      ]
     },
     "execution_count": 9,
     "metadata": {},
     "output_type": "execute_result"
    }
   ],
   "source": [
    "X_new = np.array([[0.8]])\n",
    "y_pred = sum(tree.predict(X_new) for tree in (tree_reg1, tree_reg2, tree_reg3))\n",
    "y_pred"
   ]
  },
  {
   "cell_type": "markdown",
   "metadata": {
    "slideshow": {
     "slide_type": "subslide"
    }
   },
   "source": [
    "## Gradient Boosting Algorithm Intuition\n",
    "***\n",
    "Finally, the left hand side graph shows how the third model fits the errors from the second model. Also, notice how the errors are gradually converging to 0 with each iteration.\n",
    "\n",
    "The graph on the right hand side shows the collective predictions made by 1st, 2nd and 3rd model on the original data. As can we can notice, the fit is better than the previous iteration."
   ]
  },
  {
   "cell_type": "code",
   "execution_count": 10,
   "metadata": {
    "slideshow": {
     "slide_type": "subslide"
    }
   },
   "outputs": [
    {
     "data": {
      "image/png": "[encoded data removed]",
      "text/plain": [
       "<Figure size 864x288 with 2 Axes>"
      ]
     },
     "metadata": {
      "needs_background": "light"
     },
     "output_type": "display_data"
    }
   ],
   "source": [
    "plt.figure(figsize=(12,4))\n",
    "\n",
    "plt.subplot(121)\n",
    "plot_predictions([tree_reg3], X, y3, axes=[-0.5, 0.5, -0.5, 0.5], label=\"$h_3(x_1)$\", style=\"g-\", data_style=\"k+\")\n",
    "plt.ylabel(\"$y - h_1(x_1) - h_2(x_1)$\", fontsize=16)\n",
    "plt.xlabel(\"$x_1$\", fontsize=16)\n",
    "\n",
    "plt.subplot(122)\n",
    "plot_predictions([tree_reg1, tree_reg2, tree_reg3], X, y, axes=[-0.5, 0.5, -0.1, 0.8], label=\"$h(x_1) = h_1(x_1) + h_2(x_1) + h_3(x_1)$\")\n",
    "plt.xlabel(\"$x_1$\", fontsize=16)\n",
    "plt.ylabel(\"$y$\", fontsize=16, rotation=0)\n",
    "\n",
    "plt.show()"
   ]
  },
  {
   "cell_type": "markdown",
   "metadata": {
    "slideshow": {
     "slide_type": "subslide"
    }
   },
   "source": [
    "## GBM in `sklearn`\n",
    "***\n",
    "Here is a sklearn implementation of GBM with n_estimators = 3"
   ]
  },
  {
   "cell_type": "code",
   "execution_count": 11,
   "metadata": {
    "slideshow": {
     "slide_type": "subslide"
    }
   },
   "outputs": [
    {
     "data": {
      "text/plain": [
       "GradientBoostingRegressor(learning_rate=1.0, max_depth=2, n_estimators=3,\n",
       "                          random_state=42)"
      ]
     },
     "execution_count": 11,
     "metadata": {},
     "output_type": "execute_result"
    }
   ],
   "source": [
    "from sklearn.ensemble import GradientBoostingRegressor\n",
    "\n",
    "gbrt = GradientBoostingRegressor(max_depth=2, n_estimators=3, learning_rate=1.0, random_state=42)\n",
    "gbrt.fit(X, y)"
   ]
  },
  {
   "cell_type": "markdown",
   "metadata": {
    "slideshow": {
     "slide_type": "subslide"
    }
   },
   "source": [
    "## GBM in `sklearn`\n",
    "***\n",
    "Here is a sklearn implementation of GBM with n_estimators = 200"
   ]
  },
  {
   "cell_type": "code",
   "execution_count": 12,
   "metadata": {
    "slideshow": {
     "slide_type": "subslide"
    }
   },
   "outputs": [
    {
     "data": {
      "text/plain": [
       "GradientBoostingRegressor(max_depth=2, n_estimators=200, random_state=42)"
      ]
     },
     "execution_count": 12,
     "metadata": {},
     "output_type": "execute_result"
    }
   ],
   "source": [
    "gbrt_slow = GradientBoostingRegressor(max_depth=2, n_estimators=200, learning_rate=0.1, random_state=42)\n",
    "gbrt_slow.fit(X, y)"
   ]
  },
  {
   "cell_type": "markdown",
   "metadata": {
    "slideshow": {
     "slide_type": "subslide"
    }
   },
   "source": [
    "## GBM in `sklearn`\n",
    "***\n",
    "Now let's see how both models vary in terms of decision boundaries."
   ]
  },
  {
   "cell_type": "code",
   "execution_count": 13,
   "metadata": {
    "slideshow": {
     "slide_type": "subslide"
    }
   },
   "outputs": [
    {
     "data": {
      "image/png": "[encoded data removed]",
      "text/plain": [
       "<Figure size 792x288 with 2 Axes>"
      ]
     },
     "metadata": {
      "needs_background": "light"
     },
     "output_type": "display_data"
    }
   ],
   "source": [
    "plt.figure(figsize=(11,4))\n",
    "\n",
    "plt.subplot(121)\n",
    "plot_predictions([gbrt], X, y, axes=[-0.5, 0.5, -0.1, 0.8], label=\"Ensemble predictions\")\n",
    "plt.title(\"learning_rate={}, n_estimators={}\".format(gbrt.learning_rate, gbrt.n_estimators), fontsize=14)\n",
    "\n",
    "plt.subplot(122)\n",
    "plot_predictions([gbrt_slow], X, y, axes=[-0.5, 0.5, -0.1, 0.8])\n",
    "plt.title(\"learning_rate={}, n_estimators={}\".format(gbrt_slow.learning_rate, gbrt_slow.n_estimators), fontsize=14)\n",
    "\n",
    "plt.show()"
   ]
  },
  {
   "cell_type": "markdown",
   "metadata": {
    "slideshow": {
     "slide_type": "subslide"
    }
   },
   "source": [
    "## GBM in `sklearn`\n",
    "***\n",
    "As we can see, the model with n_estimators = 200 has much higher variance than the one with 3 estimators. This brings us to the **most crucial part of using GBM: Hyperparameter Tuning.**\n",
    "\n",
    "Let's try and understand a bit more about it."
   ]
  },
  {
   "cell_type": "markdown",
   "metadata": {
    "slideshow": {
     "slide_type": "subslide"
    }
   },
   "source": [
    "## Improving Gradient Boost\n",
    "***\n",
    "Gradient boosting is a greedy algorithm and can overfit a training dataset quickly.\n",
    "Regularization methods penalize various parts of the algorithm and generally improve the performance of the algorithm by reducing overfitting.\n",
    "\n",
    "The overall parameters can be divided into 3 categories:\n",
    "* **Algorithm-Specific Parameters:** These affect each individual tree in the model\n",
    "* **Training Parameters:** These affect the boosting operation in the model\n",
    "* **Miscellaneous Parameters:** Other parameters for overall functioning\n"
   ]
  },
  {
   "cell_type": "markdown",
   "metadata": {
    "slideshow": {
     "slide_type": "subslide"
    }
   },
   "source": [
    "## Algorithm specific parameters\n",
    "***\n",
    "#### min_samples_split :\n",
    "\n",
    "* minimum number of samples required at a node to be considered for further splitting.\n",
    "* Controls over-fitting.\n",
    "* Higher values prevent a model from learning relations which might be highly specific to the particular sample selected for a tree.\n",
    "* Too high values can lead to under-fitting hence, it should be tuned using CV.\n",
    "\n",
    "#### min_samples_leaf :\n",
    "* minimum samples required in a terminal node or leaf.\n",
    "* Controls over-fitting.\n",
    "* Generally lower values should be chosen for imbalanced class problems because the regions in which the minority class will be in majority will be very small.\n",
    "\n"
   ]
  },
  {
   "cell_type": "markdown",
   "metadata": {
    "slideshow": {
     "slide_type": "subslide"
    }
   },
   "source": [
    "## Algorithm specific parameters\n",
    "***\n",
    "#### max_depth :\n",
    "* The maximum depth of a tree.\n",
    "* Controls over-fitting as higher depth will allow model to learn relations very specific to a particular sample.\n",
    "* Should be tuned using CV.\n",
    "\n",
    "#### max_features :\n",
    "* The number of features to consider while searching for a best split.\n",
    "* These will be randomly selected.\n",
    "* As a thumb-rule, square root of the total number of features works great but we should check upto 30-40% of the total number of features.\n",
    "* Higher values may lead to over-fitting\n",
    "\n"
   ]
  },
  {
   "cell_type": "markdown",
   "metadata": {
    "slideshow": {
     "slide_type": "subslide"
    }
   },
   "source": [
    "## Training parameters\n",
    "***\n",
    "#### learning_rate :\n",
    "* Determines the impact of each tree on the final outcome. GBM works by starting with an initial estimate which is updated using the output of each tree.\n",
    "* The learning parameter controls the magnitude of this change in the estimates.\n",
    "* Lower values are generally preferred as they make the model robust to the specific characteristics of tree and thus allowing it to generalize well.\n",
    "* Lower values would require higher number of trees to model all the relations and will be computationally expensive.\n",
    "\n",
    "#### n_estimators :\n",
    "* The number of sequential trees to be modeled\n",
    "* More robust at higher number of trees but it can still overfit at a point.\n",
    "* Hence, this should be tuned using CV for a particular learning rate."
   ]
  },
  {
   "cell_type": "markdown",
   "metadata": {
    "collapsed": true,
    "slideshow": {
     "slide_type": "subslide"
    }
   },
   "source": [
    "## Training parameters\n",
    "***\n",
    "#### subsample\n",
    "* The fraction of observations to be selected for each tree. Selection is done by random sampling.\n",
    "* Values slightly less than 1 make the model robust by reducing the variance.\n",
    "* Typical values ~0.8 generally work fine but can be fine-tuned further.\n"
   ]
  },
  {
   "cell_type": "markdown",
   "metadata": {
    "slideshow": {
     "slide_type": "subslide"
    }
   },
   "source": [
    "## Misc Parameters\n",
    "***\n",
    "#### loss\n",
    "* It refers to the loss function to be minimized in each split."
   ]
  },
  {
   "cell_type": "markdown",
   "metadata": {
    "slideshow": {
     "slide_type": "subslide"
    }
   },
   "source": [
    "## Lucius is not done yet\n",
    "***\n",
    "Lucius had that proud smile when he finished explaining all those things. But something told John that he was not quite done yet. And right John was!\n",
    "\n",
    "There has been a recent implementation of GBM which has suddenly made it one the most popular ML algorithm out there, said Lucius, still glancing at an official documentation page of a website. The name read - **XGBoost**"
   ]
  },
  {
   "cell_type": "markdown",
   "metadata": {
    "slideshow": {
     "slide_type": "subslide"
    }
   },
   "source": [
    "<img src=\"../images/Concept-Alert.png\" alt=\"Concept-Alert\" style=\"width: 100px;float:left; margin-right:15px\"/>\n",
    "\n",
    "<br />\n",
    "\n",
    "# XGBoost\n",
    "***\n",
    "* XGBoost stands for **eXtreme Gradient Boosting**.\n",
    "* XGBoost has recently been dominating applied machine learning and Kaggle competitions for structured or tabular data.\n",
    "* XGBoost is an implementation of gradient boosted decision trees designed for speed and performance."
   ]
  },
  {
   "cell_type": "markdown",
   "metadata": {
    "slideshow": {
     "slide_type": "subslide"
    }
   },
   "source": [
    "<img src=\"../images/Concept-Alert.png\" alt=\"Concept-Alert\" style=\"width: 100px;float:left; margin-right:15px\"/>\n",
    "\n",
    "<br />\n",
    "\n",
    "## XGBoost\n",
    "***\n",
    "* Gradient boosting machines are generally very slow in implementation because of sequential model training. Hence, they are not very scalable\n",
    "* However, it all changed with XGboost Library\n",
    "* The library is laser focused on computational speed and model performance, as such there are few frills.\n"
   ]
  },
  {
   "cell_type": "markdown",
   "metadata": {
    "slideshow": {
     "slide_type": "subslide"
    }
   },
   "source": [
    "<img src=\"../images/Concept-Alert.png\" alt=\"Concept-Alert\" style=\"width: 100px;float:left; margin-right:15px\"/>\n",
    "\n",
    "<br />\n",
    "\n",
    "## XGboost System Features - Lucius can't believe his eyes\n",
    "***\n",
    "* The library provides a system for use in a range of computing environments, not least:\n",
    "* Parallelization of tree construction using all of your CPU cores during training.\n",
    "* Distributed Computing for training very large models using a cluster of machines.\n",
    "* Out-of-Core Computing for very large datasets that don’t fit into memory.\n",
    "* Cache Optimization of data structures and algorithm to make best use of hardware.\n"
   ]
  },
  {
   "cell_type": "markdown",
   "metadata": {
    "slideshow": {
     "slide_type": "subslide"
    }
   },
   "source": [
    "## XGBoost Execution Speed - Lucius can't believe his eyes\n",
    "***\n",
    "According [this](http://datascience.la/benchmarking-random-forest-implementations/) speed benchmarking study showed that XGBoost was almost always faster than the other benchmarked implementations from R, Python Spark and H2O.\n",
    "\n",
    "![](../images/image34.png)"
   ]
  },
  {
   "cell_type": "markdown",
   "metadata": {
    "slideshow": {
     "slide_type": "subslide"
    }
   },
   "source": [
    "<img src=\"../images/Technical-Stuff.png\" alt=\"Technical-Stuff\" style=\"width: 100px;float:left; margin-right:15px\"/>\n",
    "\n",
    "<br />\n",
    "\n",
    "## `XGBoost` Implementation - `sklearn` style\n",
    "***\n",
    "XGBoost has the same api as sklearn that we have learnt so far. Let's see how it works on John's problem."
   ]
  },
  {
   "cell_type": "code",
   "execution_count": 14,
   "metadata": {
    "slideshow": {
     "slide_type": "subslide"
    }
   },
   "outputs": [
    {
     "ename": "ModuleNotFoundError",
     "evalue": "No module named 'xgboost'",
     "output_type": "error",
     "traceback": [
      "\u001b[0;31m---------------------------------------------------------------------------\u001b[0m",
      "\u001b[0;31mModuleNotFoundError\u001b[0m                       Traceback (most recent call last)",
      "\u001b[0;32m<ipython-input-14-12a851c9384d>\u001b[0m in \u001b[0;36m<module>\u001b[0;34m\u001b[0m\n\u001b[1;32m      1\u001b[0m \u001b[0;31m# First XGBoost model for Pima Indians dataset\u001b[0m\u001b[0;34m\u001b[0m\u001b[0;34m\u001b[0m\u001b[0;34m\u001b[0m\u001b[0m\n\u001b[1;32m      2\u001b[0m \u001b[0;32mfrom\u001b[0m \u001b[0mnumpy\u001b[0m \u001b[0;32mimport\u001b[0m \u001b[0mloadtxt\u001b[0m\u001b[0;34m\u001b[0m\u001b[0;34m\u001b[0m\u001b[0m\n\u001b[0;32m----> 3\u001b[0;31m \u001b[0;32mfrom\u001b[0m \u001b[0mxgboost\u001b[0m \u001b[0;32mimport\u001b[0m \u001b[0mXGBClassifier\u001b[0m\u001b[0;34m\u001b[0m\u001b[0;34m\u001b[0m\u001b[0m\n\u001b[0m\u001b[1;32m      4\u001b[0m \u001b[0;32mfrom\u001b[0m \u001b[0msklearn\u001b[0m\u001b[0;34m.\u001b[0m\u001b[0mmodel_selection\u001b[0m \u001b[0;32mimport\u001b[0m \u001b[0mtrain_test_split\u001b[0m\u001b[0;34m\u001b[0m\u001b[0;34m\u001b[0m\u001b[0m\n\u001b[1;32m      5\u001b[0m \u001b[0;32mfrom\u001b[0m \u001b[0msklearn\u001b[0m\u001b[0;34m.\u001b[0m\u001b[0mmetrics\u001b[0m \u001b[0;32mimport\u001b[0m \u001b[0maccuracy_score\u001b[0m\u001b[0;34m\u001b[0m\u001b[0;34m\u001b[0m\u001b[0m\n",
      "\u001b[0;31mModuleNotFoundError\u001b[0m: No module named 'xgboost'"
     ]
    }
   ],
   "source": [
    "# First XGBoost model for Pima Indians dataset\n",
    "from numpy import loadtxt\n",
    "from xgboost import XGBClassifier\n",
    "from sklearn.model_selection import train_test_split\n",
    "from sklearn.metrics import accuracy_score"
   ]
  },
  {
   "cell_type": "code",
   "execution_count": 15,
   "metadata": {
    "slideshow": {
     "slide_type": "subslide"
    }
   },
   "outputs": [],
   "source": [
    "# load data\n",
    "import pandas as pd\n",
    "dataset = pd.read_csv('../data/loan_prediction.csv', delimiter=\",\")\n",
    "# split data into X and y\n",
    "X = dataset.iloc[:,0:-1]\n",
    "Y = dataset.iloc[:,-1]"
   ]
  },
  {
   "cell_type": "code",
   "execution_count": 16,
   "metadata": {
    "slideshow": {
     "slide_type": "subslide"
    }
   },
   "outputs": [],
   "source": [
    "# split data into train and test sets\n",
    "seed = 7\n",
    "test_size = 0.33\n",
    "X_train, X_test, y_train, y_test = train_test_split(X, Y, test_size=test_size,\n",
    "    random_state=seed)"
   ]
  },
  {
   "cell_type": "code",
   "execution_count": 18,
   "metadata": {
    "slideshow": {
     "slide_type": "subslide"
    }
   },
   "outputs": [
    {
     "data": {
      "text/plain": [
       "XGBClassifier(base_score=0.5, booster='gbtree', colsample_bylevel=1,\n",
       "              colsample_bynode=1, colsample_bytree=1, gamma=0, gpu_id=-1,\n",
       "              importance_type='gain', interaction_constraints='',\n",
       "              learning_rate=0.300000012, max_delta_step=0, max_depth=6,\n",
       "              min_child_weight=1, missing=nan, monotone_constraints='()',\n",
       "              n_estimators=100, n_jobs=0, num_parallel_tree=1, random_state=0,\n",
       "              reg_alpha=0, reg_lambda=1, scale_pos_weight=1, subsample=1,\n",
       "              tree_method='exact', validate_parameters=1, verbosity=None)"
      ]
     },
     "execution_count": 18,
     "metadata": {},
     "output_type": "execute_result"
    }
   ],
   "source": [
    "# fit model no training data\n",
    "model = XGBClassifier()\n",
    "model.fit(X_train, y_train)"
   ]
  },
  {
   "cell_type": "code",
   "execution_count": 19,
   "metadata": {
    "slideshow": {
     "slide_type": "subslide"
    }
   },
   "outputs": [],
   "source": [
    "# make predictions for test data\n",
    "y_pred = model.predict(X_test)\n",
    "predictions = [round(value) for value in y_pred]"
   ]
  },
  {
   "cell_type": "code",
   "execution_count": 20,
   "metadata": {
    "slideshow": {
     "slide_type": "subslide"
    }
   },
   "outputs": [
    {
     "name": "stdout",
     "output_type": "stream",
     "text": [
      "Accuracy: 71.92%\n"
     ]
    }
   ],
   "source": [
    "# evaluate predictions\n",
    "accuracy = accuracy_score(y_test, predictions)\n",
    "print(\"Accuracy: %.2f%%\" % (accuracy * 100.0))"
   ]
  },
  {
   "cell_type": "markdown",
   "metadata": {
    "slideshow": {
     "slide_type": "subslide"
    }
   },
   "source": [
    "<img src=\"../images/Technical-Stuff.png\" alt=\"Technical-Stuff\" style=\"width: 100px;float:left; margin-right:15px\"/>\n",
    "\n",
    "<br />\n",
    "\n",
    "## Saving and Loading trained model\n",
    "***\n",
    "We can also save and retrieve xgboost (or any other) model in/from a pickle file with a single line of command. It is in general a good practice to save your trained models so that you don't have to start from scratch every time."
   ]
  },
  {
   "cell_type": "code",
   "execution_count": 21,
   "metadata": {
    "slideshow": {
     "slide_type": "subslide"
    }
   },
   "outputs": [],
   "source": [
    "import pickle\n",
    "# save model to file\n",
    "pickle.dump(model, open(\"loan.pickle.dat\", \"wb\"))"
   ]
  },
  {
   "cell_type": "code",
   "execution_count": 22,
   "metadata": {
    "slideshow": {
     "slide_type": "subslide"
    }
   },
   "outputs": [],
   "source": [
    "# load model from file\n",
    "loaded_model = pickle.load(open(\"loan.pickle.dat\", \"rb\"))\n",
    "# y_pred = loaded_model.predict(X_test)"
   ]
  },
  {
   "cell_type": "markdown",
   "metadata": {
    "slideshow": {
     "slide_type": "slide"
    }
   },
   "source": [
    "## Feature Importances\n",
    "***\n",
    "Just like any other tree based method, xgboost also gets you the feature importances. More importantly you can print and observe the feature importances from an internal api of xgboost. Here is an example."
   ]
  },
  {
   "cell_type": "code",
   "execution_count": 23,
   "metadata": {
    "slideshow": {
     "slide_type": "subslide"
    }
   },
   "outputs": [
    {
     "data": {
      "image/png": "[encoded data removed]",
      "text/plain": [
       "<Figure size 432x288 with 1 Axes>"
      ]
     },
     "metadata": {
      "needs_background": "light"
     },
     "output_type": "display_data"
    }
   ],
   "source": [
    "import matplotlib.pyplot as plt\n",
    "\n",
    "# plot feature importance using built-in function\n",
    "from xgboost import plot_importance\n",
    "plot_importance(model)\n",
    "plt.show()"
   ]
  },
  {
   "cell_type": "markdown",
   "metadata": {
    "slideshow": {
     "slide_type": "subslide"
    }
   },
   "source": [
    "## Early Stopping:\n",
    "***\n",
    "It was late in the night and Lucius, with red eyes, was looking at a website called [machine learning mastery](https://machinelearningmastery.com/avoid-overfitting-by-early-stopping-with-xgboost-in-python/). The website was talking about an interesting concept called 'early stopping'. The website read:\n",
    "\n",
    "> Early stopping is an approach to training complex machine learning models to avoid overfitting.\n",
    "\n",
    "> It works by monitoring the performance of the model that is being trained on a separate test dataset and stopping the training procedure once the performance on the test dataset has not improved after a fixed number of training iterations.\n",
    "\n",
    "> It avoids overfitting by attempting to automatically select the inflection point where performance on the test dataset starts to decrease while performance on the training dataset continues to improve as the model starts to overfit."
   ]
  },
  {
   "cell_type": "code",
   "execution_count": 24,
   "metadata": {
    "slideshow": {
     "slide_type": "subslide"
    }
   },
   "outputs": [
    {
     "name": "stdout",
     "output_type": "stream",
     "text": [
      "[0]\tvalidation_0-logloss:0.61597\n",
      "Will train until validation_0-logloss hasn't improved in 10 rounds.\n",
      "[1]\tvalidation_0-logloss:0.57879\n",
      "[2]\tvalidation_0-logloss:0.56384\n",
      "[3]\tvalidation_0-logloss:0.56681\n",
      "[4]\tvalidation_0-logloss:0.56303\n",
      "[5]\tvalidation_0-logloss:0.55971\n",
      "[6]\tvalidation_0-logloss:0.55485\n",
      "[7]\tvalidation_0-logloss:0.55827\n",
      "[8]\tvalidation_0-logloss:0.55984\n",
      "[9]\tvalidation_0-logloss:0.56195\n",
      "[10]\tvalidation_0-logloss:0.55822\n",
      "[11]\tvalidation_0-logloss:0.56149\n",
      "[12]\tvalidation_0-logloss:0.55608\n",
      "[13]\tvalidation_0-logloss:0.55442\n",
      "[14]\tvalidation_0-logloss:0.55593\n",
      "[15]\tvalidation_0-logloss:0.55112\n",
      "[16]\tvalidation_0-logloss:0.55396\n",
      "[17]\tvalidation_0-logloss:0.54883\n",
      "[18]\tvalidation_0-logloss:0.55470\n",
      "[19]\tvalidation_0-logloss:0.55701\n",
      "[20]\tvalidation_0-logloss:0.55918\n",
      "[21]\tvalidation_0-logloss:0.56222\n",
      "[22]\tvalidation_0-logloss:0.56388\n",
      "[23]\tvalidation_0-logloss:0.57040\n",
      "[24]\tvalidation_0-logloss:0.57077\n",
      "[25]\tvalidation_0-logloss:0.57988\n",
      "[26]\tvalidation_0-logloss:0.57991\n",
      "[27]\tvalidation_0-logloss:0.57964\n",
      "Stopping. Best iteration:\n",
      "[17]\tvalidation_0-logloss:0.54883\n",
      "\n"
     ]
    },
    {
     "data": {
      "text/plain": [
       "XGBClassifier(base_score=0.5, booster='gbtree', colsample_bylevel=1,\n",
       "              colsample_bynode=1, colsample_bytree=1, gamma=0, gpu_id=-1,\n",
       "              importance_type='gain', interaction_constraints='',\n",
       "              learning_rate=0.300000012, max_delta_step=0, max_depth=6,\n",
       "              min_child_weight=1, missing=nan, monotone_constraints='()',\n",
       "              n_estimators=100, n_jobs=0, num_parallel_tree=1, random_state=0,\n",
       "              reg_alpha=0, reg_lambda=1, scale_pos_weight=1, subsample=1,\n",
       "              tree_method='exact', validate_parameters=1, verbosity=None)"
      ]
     },
     "execution_count": 24,
     "metadata": {},
     "output_type": "execute_result"
    }
   ],
   "source": [
    "eval_set = [(X_test, y_test)]\n",
    "model.fit(X_train, y_train, early_stopping_rounds=10, eval_metric=\"logloss\", eval_set=eval_set, verbose=True)"
   ]
  },
  {
   "cell_type": "markdown",
   "metadata": {
    "slideshow": {
     "slide_type": "subslide"
    }
   },
   "source": [
    "## XGBoost Model Configuration\n",
    "***\n",
    "\n",
    "Same as GBM in sklearn, XGBoost has parameters in 3 categories:\n",
    "\n",
    "* **General Parameters:** Guide the overall functioning\n",
    "* **Booster Parameters:** Guide the individual booster (tree/regression) at each step\n",
    "* **Learning Task Parameters:** Guide the optimization performed\n",
    "\n",
    "They are similar to GBM parameter configuration"
   ]
  },
  {
   "cell_type": "markdown",
   "metadata": {
    "slideshow": {
     "slide_type": "subslide"
    }
   },
   "source": [
    "## XGBoost Model Configuration\n",
    "***\n",
    "And finally to get John started with building a model, Lucius referred him to another article. According to [that article](https://www.linkedin.com/pulse/approaching-almost-any-machine-learning-problem-abhishek-thakur), following are suggested values for hyperparameters\n",
    "\n",
    "\n",
    "![](../images/image33.png)"
   ]
  },
  {
   "cell_type": "markdown",
   "metadata": {
    "slideshow": {
     "slide_type": "subslide"
    }
   },
   "source": [
    "## With great power comes great responsibilities\n",
    "***\n",
    "Seemed like Lucius was finally done and returning to his normal human state. He uttered a few words of cautions before finally closing the lid of John's laptop:\n",
    "\n",
    "* XGBoost can be **sensitive to noisy** data and might **overfit**\n",
    "* XGBoost **needs much more hyperparameter** tuning than bagged decision trees\n",
    "\n",
    "With this, the evening which was supposed to be spent with alcohol, was spent with a different kind of spirit, a more mathematical in nature, and both John and Lucius seemed riding those high spirits!"
   ]
  },
  {
   "cell_type": "markdown",
   "metadata": {},
   "source": [
    "# In-Class Activity"
   ]
  },
  {
   "cell_type": "code",
   "execution_count": 25,
   "metadata": {},
   "outputs": [
    {
     "data": {
      "text/html": [
       "<div>\n",
       "<style scoped>\n",
       "    .dataframe tbody tr th:only-of-type {\n",
       "        vertical-align: middle;\n",
       "    }\n",
       "\n",
       "    .dataframe tbody tr th {\n",
       "        vertical-align: top;\n",
       "    }\n",
       "\n",
       "    .dataframe thead th {\n",
       "        text-align: right;\n",
       "    }\n",
       "</style>\n",
       "<table border=\"1\" class=\"dataframe\">\n",
       "  <thead>\n",
       "    <tr style=\"text-align: right;\">\n",
       "      <th></th>\n",
       "      <th>age</th>\n",
       "      <th>workclass</th>\n",
       "      <th>fnlwgt</th>\n",
       "      <th>education</th>\n",
       "      <th>education-num</th>\n",
       "      <th>marital-status</th>\n",
       "      <th>occupation</th>\n",
       "      <th>relationship</th>\n",
       "      <th>race</th>\n",
       "      <th>sex</th>\n",
       "      <th>capital-gain</th>\n",
       "      <th>capital-loss</th>\n",
       "      <th>hours-per-week</th>\n",
       "      <th>native-country</th>\n",
       "      <th>salary</th>\n",
       "    </tr>\n",
       "  </thead>\n",
       "  <tbody>\n",
       "    <tr>\n",
       "      <th>0</th>\n",
       "      <td>39</td>\n",
       "      <td>State-gov</td>\n",
       "      <td>77516</td>\n",
       "      <td>Bachelors</td>\n",
       "      <td>13</td>\n",
       "      <td>Never-married</td>\n",
       "      <td>Adm-clerical</td>\n",
       "      <td>Not-in-family</td>\n",
       "      <td>White</td>\n",
       "      <td>Male</td>\n",
       "      <td>2174</td>\n",
       "      <td>0</td>\n",
       "      <td>40</td>\n",
       "      <td>United-States</td>\n",
       "      <td>&lt;=50K</td>\n",
       "    </tr>\n",
       "    <tr>\n",
       "      <th>1</th>\n",
       "      <td>50</td>\n",
       "      <td>Self-emp-not-inc</td>\n",
       "      <td>83311</td>\n",
       "      <td>Bachelors</td>\n",
       "      <td>13</td>\n",
       "      <td>Married-civ-spouse</td>\n",
       "      <td>Exec-managerial</td>\n",
       "      <td>Husband</td>\n",
       "      <td>White</td>\n",
       "      <td>Male</td>\n",
       "      <td>0</td>\n",
       "      <td>0</td>\n",
       "      <td>13</td>\n",
       "      <td>United-States</td>\n",
       "      <td>&lt;=50K</td>\n",
       "    </tr>\n",
       "    <tr>\n",
       "      <th>2</th>\n",
       "      <td>38</td>\n",
       "      <td>Private</td>\n",
       "      <td>215646</td>\n",
       "      <td>HS-grad</td>\n",
       "      <td>9</td>\n",
       "      <td>Divorced</td>\n",
       "      <td>Handlers-cleaners</td>\n",
       "      <td>Not-in-family</td>\n",
       "      <td>White</td>\n",
       "      <td>Male</td>\n",
       "      <td>0</td>\n",
       "      <td>0</td>\n",
       "      <td>40</td>\n",
       "      <td>United-States</td>\n",
       "      <td>&lt;=50K</td>\n",
       "    </tr>\n",
       "    <tr>\n",
       "      <th>3</th>\n",
       "      <td>53</td>\n",
       "      <td>Private</td>\n",
       "      <td>234721</td>\n",
       "      <td>11th</td>\n",
       "      <td>7</td>\n",
       "      <td>Married-civ-spouse</td>\n",
       "      <td>Handlers-cleaners</td>\n",
       "      <td>Husband</td>\n",
       "      <td>Black</td>\n",
       "      <td>Male</td>\n",
       "      <td>0</td>\n",
       "      <td>0</td>\n",
       "      <td>40</td>\n",
       "      <td>United-States</td>\n",
       "      <td>&lt;=50K</td>\n",
       "    </tr>\n",
       "    <tr>\n",
       "      <th>4</th>\n",
       "      <td>28</td>\n",
       "      <td>Private</td>\n",
       "      <td>338409</td>\n",
       "      <td>Bachelors</td>\n",
       "      <td>13</td>\n",
       "      <td>Married-civ-spouse</td>\n",
       "      <td>Prof-specialty</td>\n",
       "      <td>Wife</td>\n",
       "      <td>Black</td>\n",
       "      <td>Female</td>\n",
       "      <td>0</td>\n",
       "      <td>0</td>\n",
       "      <td>40</td>\n",
       "      <td>Cuba</td>\n",
       "      <td>&lt;=50K</td>\n",
       "    </tr>\n",
       "  </tbody>\n",
       "</table>\n",
       "</div>"
      ],
      "text/plain": [
       "   age         workclass  fnlwgt  education  education-num  \\\n",
       "0   39         State-gov   77516  Bachelors             13   \n",
       "1   50  Self-emp-not-inc   83311  Bachelors             13   \n",
       "2   38           Private  215646    HS-grad              9   \n",
       "3   53           Private  234721       11th              7   \n",
       "4   28           Private  338409  Bachelors             13   \n",
       "\n",
       "       marital-status         occupation   relationship   race     sex  \\\n",
       "0       Never-married       Adm-clerical  Not-in-family  White    Male   \n",
       "1  Married-civ-spouse    Exec-managerial        Husband  White    Male   \n",
       "2            Divorced  Handlers-cleaners  Not-in-family  White    Male   \n",
       "3  Married-civ-spouse  Handlers-cleaners        Husband  Black    Male   \n",
       "4  Married-civ-spouse     Prof-specialty           Wife  Black  Female   \n",
       "\n",
       "   capital-gain  capital-loss  hours-per-week native-country salary  \n",
       "0          2174             0              40  United-States  <=50K  \n",
       "1             0             0              13  United-States  <=50K  \n",
       "2             0             0              40  United-States  <=50K  \n",
       "3             0             0              40  United-States  <=50K  \n",
       "4             0             0              40           Cuba  <=50K  "
      ]
     },
     "execution_count": 25,
     "metadata": {},
     "output_type": "execute_result"
    }
   ],
   "source": [
    "import pandas as pd\n",
    "import numpy as np\n",
    "from sklearn.linear_model import LogisticRegression\n",
    "from sklearn.tree import DecisionTreeClassifier\n",
    "from sklearn.metrics import classification_report , accuracy_score\n",
    "from sklearn.model_selection import train_test_split\n",
    "import matplotlib.pyplot as plt\n",
    "from sklearn.metrics import confusion_matrix\n",
    "from sklearn.ensemble import VotingClassifier\n",
    "from sklearn.ensemble import RandomForestClassifier,GradientBoostingClassifier\n",
    "from sklearn.metrics import roc_auc_score , roc_curve\n",
    "from xgboost import XGBClassifier\n",
    "import warnings\n",
    "warnings.filterwarnings(\"ignore\")\n",
    "\n",
    "data = pd.read_csv(\"../data/adult1.csv\")\n",
    "data.head()"
   ]
  },
  {
   "cell_type": "markdown",
   "metadata": {},
   "source": [
    "## 1.  Explore the data by completing the following tasks?\n",
    "- How many men and women (sex feature) are represented in this dataset? \n",
    "\n",
    "- What is the average age (age feature) of women? \n",
    "\n",
    "- What is the percentage of German citizens (native-country feature)?"
   ]
  },
  {
   "cell_type": "code",
   "execution_count": 26,
   "metadata": {},
   "outputs": [
    {
     "name": "stdout",
     "output_type": "stream",
     "text": [
      "Male      21790\n",
      "Female    10771\n",
      "Name: sex, dtype: int64\n",
      "36.85823043357163\n",
      "0.004207487485028101\n"
     ]
    }
   ],
   "source": [
    "# Code Starts here\n",
    "\n",
    "print(data['sex'].value_counts())\n",
    "print(data.loc[data['sex'] == 'Female', 'age'].mean())\n",
    "print(float((data['native-country'] == 'Germany').sum()) / data.shape[0])"
   ]
  },
  {
   "cell_type": "markdown",
   "metadata": {},
   "source": [
    "### 2. For people who recieve more than 50K per year (salary feature), what is the mean and standard deviation of their age?  Simiarly for people who receive less than 50K per year?"
   ]
  },
  {
   "cell_type": "code",
   "execution_count": 27,
   "metadata": {},
   "outputs": [
    {
     "name": "stdout",
     "output_type": "stream",
     "text": [
      "The average age of people who earn more than 50k is: 44 +- 10.5 years, people who earn less than 50k - 37 +- 14.0 years.\n"
     ]
    }
   ],
   "source": [
    "# Code Starts here\n",
    "\n",
    "ages1 = data.loc[data['salary'] == '>50K', 'age']\n",
    "ages2 = data.loc[data['salary'] == '<=50K', 'age']\n",
    "print(\"The average age of people who earn more than 50k is: {0} +- {1} years, people who earn less than 50k - {2} +- {3} years.\".format(\n",
    "    round(ages1.mean()), round(ages1.std(), 1),\n",
    "    round(ages2.mean()), round(ages2.std(), 1)))"
   ]
  },
  {
   "cell_type": "markdown",
   "metadata": {},
   "source": [
    "### 3. Display the statistics of age for each gender of all the races (race feature). Use groupby() and describe(). Find the maximum age of men of Amer-Indian-Eskimo race."
   ]
  },
  {
   "cell_type": "code",
   "execution_count": 28,
   "metadata": {},
   "outputs": [
    {
     "name": "stdout",
     "output_type": "stream",
     "text": [
      "Race: Amer-Indian-Eskimo, sex: Female\n",
      "count    119.000000\n",
      "mean      37.117647\n",
      "std       13.114991\n",
      "min       17.000000\n",
      "25%       27.000000\n",
      "50%       36.000000\n",
      "75%       46.000000\n",
      "max       80.000000\n",
      "Name: age, dtype: float64\n",
      "Race: Amer-Indian-Eskimo, sex: Male\n",
      "count    192.000000\n",
      "mean      37.208333\n",
      "std       12.049563\n",
      "min       17.000000\n",
      "25%       28.000000\n",
      "50%       35.000000\n",
      "75%       45.000000\n",
      "max       82.000000\n",
      "Name: age, dtype: float64\n",
      "Race: Asian-Pac-Islander, sex: Female\n",
      "count    346.000000\n",
      "mean      35.089595\n",
      "std       12.300845\n",
      "min       17.000000\n",
      "25%       25.000000\n",
      "50%       33.000000\n",
      "75%       43.750000\n",
      "max       75.000000\n",
      "Name: age, dtype: float64\n",
      "Race: Asian-Pac-Islander, sex: Male\n",
      "count    693.000000\n",
      "mean      39.073593\n",
      "std       12.883944\n",
      "min       18.000000\n",
      "25%       29.000000\n",
      "50%       37.000000\n",
      "75%       46.000000\n",
      "max       90.000000\n",
      "Name: age, dtype: float64\n",
      "Race: Black, sex: Female\n",
      "count    1555.000000\n",
      "mean       37.854019\n",
      "std        12.637197\n",
      "min        17.000000\n",
      "25%        28.000000\n",
      "50%        37.000000\n",
      "75%        46.000000\n",
      "max        90.000000\n",
      "Name: age, dtype: float64\n",
      "Race: Black, sex: Male\n",
      "count    1569.000000\n",
      "mean       37.682600\n",
      "std        12.882612\n",
      "min        17.000000\n",
      "25%        27.000000\n",
      "50%        36.000000\n",
      "75%        46.000000\n",
      "max        90.000000\n",
      "Name: age, dtype: float64\n",
      "Race: Other, sex: Female\n",
      "count    109.000000\n",
      "mean      31.678899\n",
      "std       11.631599\n",
      "min       17.000000\n",
      "25%       23.000000\n",
      "50%       29.000000\n",
      "75%       39.000000\n",
      "max       74.000000\n",
      "Name: age, dtype: float64\n",
      "Race: Other, sex: Male\n",
      "count    162.000000\n",
      "mean      34.654321\n",
      "std       11.355531\n",
      "min       17.000000\n",
      "25%       26.000000\n",
      "50%       32.000000\n",
      "75%       42.000000\n",
      "max       77.000000\n",
      "Name: age, dtype: float64\n",
      "Race: White, sex: Female\n",
      "count    8642.000000\n",
      "mean       36.811618\n",
      "std        14.329093\n",
      "min        17.000000\n",
      "25%        25.000000\n",
      "50%        35.000000\n",
      "75%        46.000000\n",
      "max        90.000000\n",
      "Name: age, dtype: float64\n",
      "Race: White, sex: Male\n",
      "count    19174.000000\n",
      "mean        39.652498\n",
      "std         13.436029\n",
      "min         17.000000\n",
      "25%         29.000000\n",
      "50%         38.000000\n",
      "75%         49.000000\n",
      "max         90.000000\n",
      "Name: age, dtype: float64\n"
     ]
    }
   ],
   "source": [
    "# Code Starts here\n",
    "\n",
    "for (race, sex), sub_df in data.groupby(['race', 'sex']):\n",
    "    print(\"Race: {0}, sex: {1}\".format(race, sex))\n",
    "    print(sub_df['age'].describe())"
   ]
  },
  {
   "cell_type": "markdown",
   "metadata": {},
   "source": [
    "### 4. As computers understand only numbers, we will do some preprocessing tasks for encoding the categorical features.\n",
    "\n",
    "- Encode Salary column such that wherever we have salary more than 50k that is '>50k' we encode it to 1 else 0. \n",
    "- One hot encode the categorical features.\n",
    "- Split features and target variable into X and y respectively."
   ]
  },
  {
   "cell_type": "code",
   "execution_count": 29,
   "metadata": {},
   "outputs": [],
   "source": [
    "# Code Starts here\n",
    "\n",
    "data['salary'] = data['salary'].apply(lambda x: 1 if x=='>50K' else 0)\n",
    "X = pd.get_dummies(data.drop(\"salary\",1))\n",
    "y = data[[\"salary\"]]"
   ]
  },
  {
   "cell_type": "markdown",
   "metadata": {},
   "source": [
    "### 5. Perform the following operation on dataset.\n",
    "- Split the data X and y into X_train,X_test,y_train and y_test in the ratio 70:30\n",
    "- Further split the training data into train and validation in 80:20 ratio\n",
    "- Then apply the base Decision Tree Classifier model and calculate the accuracy on validation data as well as on test data."
   ]
  },
  {
   "cell_type": "code",
   "execution_count": 31,
   "metadata": {},
   "outputs": [
    {
     "name": "stdout",
     "output_type": "stream",
     "text": [
      "Accuracy Score on validation data:  0.8074139065584558\n",
      "Accuracy Score on test data:  0.8100112601085065\n"
     ]
    }
   ],
   "source": [
    "X_train, X_test, y_train, y_test = train_test_split(X, y, test_size=0.3, random_state=42)\n",
    "X_train1, X_val, y_train1, y_val = train_test_split(X_train, y_train, test_size=0.2, random_state=42)\n",
    "\n",
    "# Code Starts here\n",
    "\n",
    "clf = DecisionTreeClassifier()\n",
    "clf = clf.fit(X_train1, y_train1)\n",
    "y_pred = clf.predict(X_val)\n",
    "y_pred1 = clf.predict(X_test)\n",
    "print(\"Accuracy Score on validation data: \", accuracy_score(y_val,y_pred))\n",
    "print(\"Accuracy Score on test data: \", accuracy_score(y_test,y_pred1))"
   ]
  },
  {
   "cell_type": "markdown",
   "metadata": {},
   "source": [
    "### 6. Perform ensembling using the models Decision Tree Classifier and Logistic Regression, using a VotingClassifier keeping the parameter voting as `soft` and the calculate the accuracy."
   ]
  },
  {
   "cell_type": "code",
   "execution_count": 32,
   "metadata": {},
   "outputs": [
    {
     "name": "stdout",
     "output_type": "stream",
     "text": [
      "Accuracy is  0.8118538233186611\n"
     ]
    }
   ],
   "source": [
    "X_train, X_test, y_train, y_test = train_test_split(X, y, test_size=0.3, random_state=42)\n",
    "\n",
    "model1 = DecisionTreeClassifier()\n",
    "model2 = LogisticRegression()\n",
    "\n",
    "# Code Starts here\n",
    "\n",
    "model = VotingClassifier(estimators=[('dt', model1), ('lr', model2)], voting='soft')\n",
    "model.fit(X_train,y_train)\n",
    "y_pred = model.predict(X_test)\n",
    "print('Accuracy is ',model.score(X_test,y_test))"
   ]
  },
  {
   "cell_type": "markdown",
   "metadata": {},
   "source": [
    "## What is the Effect of adding more trees\n",
    "\n",
    "- Train 3 different ensemble classifiers in the form of gradient boosted trees. Train models with 10, 50 and  100 trees.Use the n_estimators parameter in the boosted tree module.\n",
    "\n",
    "- n-estimators:\n",
    "    - The number of sequential trees to be modeled \n",
    "    - Though GBM is fairly robust at higher number of trees but it can still overfit at a point.\n",
    "\n",
    "- Let's get sarted with a model with n_estimators = 10 and max_depth=6:\n",
    "\n",
    "\n",
    "```python\n",
    "model_10 = GradientBoostingClassifier(n_estimators=10, max_depth=6).fit(X_train, y_train)\n",
    "```"
   ]
  },
  {
   "cell_type": "markdown",
   "metadata": {},
   "source": [
    "### 7. Perform the following Boosting task on below two models.\n",
    "\n",
    "- Train two models with \n",
    "```python\n",
    "A) n_estimators = 50 & max_depth = 6\n",
    "B) n_estimators =100 & max_depth= 6\n",
    "```\n",
    "- Calculate the accuracy on validation data and testing data.\n",
    "\n",
    "**Things to ponder**\n",
    "\n",
    "- Which model has the best accuracy on the validation data?\n",
    "- Is it always true that the model with the most trees will perform best on validation data?\n",
    "\n"
   ]
  },
  {
   "cell_type": "code",
   "execution_count": 35,
   "metadata": {},
   "outputs": [
    {
     "name": "stdout",
     "output_type": "stream",
     "text": [
      "Accuracy on validation data for model_10:  0.8447027856986181\n",
      "Accuracy on validation data for model_50:  0.8677341522263654\n",
      "Accuracy on validation data for model_100:  0.8677341522263654\n",
      "Accuracy on test data for model_10:  0.8540280479066434\n",
      "Accuracy on test data for model_50:  0.8721465861398301\n",
      "Accuracy on test data for model_100:  0.874091513972771\n"
     ]
    }
   ],
   "source": [
    "# Code Starts here\n",
    "\n",
    "model_10 = GradientBoostingClassifier(n_estimators=10, max_depth=6, random_state=0).fit(X_train1, y_train1)\n",
    "model_50 = GradientBoostingClassifier(n_estimators=50, max_depth=6, random_state=0).fit(X_train1, y_train1)\n",
    "model_100 = GradientBoostingClassifier(n_estimators=100, max_depth=6, random_state=0).fit(X_train1, y_train1)\n",
    "print(\"Accuracy on validation data for model_10: \",model_10.score(X_val,y_val))\n",
    "print(\"Accuracy on validation data for model_50: \",model_50.score(X_val,y_val))\n",
    "print(\"Accuracy on validation data for model_100: \",model_100.score(X_val,y_val))\n",
    "\n",
    "print(\"Accuracy on test data for model_10: \",model_10.score(X_test,y_test))\n",
    "print(\"Accuracy on test data for model_50: \",model_50.score(X_test,y_test))\n",
    "print(\"Accuracy on test data for model_100: \",model_100.score(X_test,y_test))\n",
    "\n"
   ]
  },
  {
   "cell_type": "markdown",
   "metadata": {},
   "source": [
    "### 8. Based on the best gradient boosting classifier you found in the previous task, plot a bar plot of the model's top 10 features with it's feature importance score\n",
    "\n"
   ]
  },
  {
   "cell_type": "code",
   "execution_count": 36,
   "metadata": {},
   "outputs": [
    {
     "data": {
      "image/png": "[encoded data removed]",
      "text/plain": [
       "<Figure size 720x360 with 1 Axes>"
      ]
     },
     "metadata": {
      "needs_background": "light"
     },
     "output_type": "display_data"
    }
   ],
   "source": [
    "# Code Starts here\n",
    "\n",
    "feat_imp = pd.DataFrame({'importance':model_100.feature_importances_})    \n",
    "feat_imp['feature'] = X_train1.columns\n",
    "feat_imp.sort_values(by='importance', ascending=False, inplace=True)\n",
    "feat_imp = feat_imp.iloc[:10]\n",
    "\n",
    "feat_imp.sort_values(by='importance', inplace=True)\n",
    "feat_imp = feat_imp.set_index('feature', drop=True)\n",
    "feat_imp.plot.barh(title=\"Feature Importance\", figsize=(10,5))\n",
    "plt.xlabel('Feature Importance Score')\n",
    "plt.show()\n",
    "\n"
   ]
  },
  {
   "cell_type": "markdown",
   "metadata": {},
   "source": [
    "## 9. Plot the training and testing error vs. number of trees\n",
    "\n",
    "- Steps to follow:\n",
    "\n",
    "**Step 1: Calculate the classification error for model on the training data (train_data).**\n",
    "```python\n",
    "train_err_10 = 1-model_10.score(X_train,y_train)\n",
    "```\n",
    "\n",
    "**Step 2: Store the training errors into a list (called training_errors) that looks like this:**\n",
    "\n",
    "```python \n",
    "[train_err_10, train_err_50, train_err_100]\n",
    "```\n",
    "**Step 3: Calculate the classification error of each model on the validation data (validation_data).**\n",
    "\n",
    "**Step 4: Store the validation classification error into a list (called validation_errors) that looks like this:**\n",
    "\n",
    "```python\n",
    "[validation_err_10, validation_err_50,validation_err_100]\n",
    "```\n",
    "**Step 5: Calculate the classification error of each model on the test data (test_data).**\n",
    "\n",
    "**Step 6: Store the testing classification error into a list (called testing_errors) that looks like this:**\n",
    "```python\n",
    "[testing_err_10, testing_err_50,testing_err_100]\n",
    "```\n",
    "\n",
    "**Things to ponder**\n",
    "\n",
    "- Does the training error reduce as the number of trees increases?Is it always true that the validation error will reduce as the number of trees increases?\n",
    "\n"
   ]
  },
  {
   "cell_type": "code",
   "execution_count": 38,
   "metadata": {},
   "outputs": [
    {
     "data": {
      "image/png": "[encoded data removed]",
      "text/plain": [
       "<Figure size 720x288 with 1 Axes>"
      ]
     },
     "metadata": {
      "needs_background": "light"
     },
     "output_type": "display_data"
    },
    {
     "data": {
      "image/png": "[encoded data removed]",
      "text/plain": [
       "<Figure size 720x288 with 1 Axes>"
      ]
     },
     "metadata": {
      "needs_background": "light"
     },
     "output_type": "display_data"
    }
   ],
   "source": [
    "# Code Starts here\n",
    "\n",
    "train_err_10 = 1-model_10.score(X_train,y_train)\n",
    "train_err_50 = 1-model_50.score(X_train,y_train)\n",
    "train_err_100 = 1-model_100.score(X_train,y_train)\n",
    "\n",
    "training_errors = [train_err_10, train_err_50, train_err_100]\n",
    "\n",
    "testing_err_10 = 1-model_10.score(X_test,y_test)\n",
    "testing_err_50 = 1-model_50.score(X_test,y_test)\n",
    "testing_err_100 = 1-model_100.score(X_test,y_test)\n",
    "\n",
    "testing_errors = [testing_err_10, testing_err_50, testing_err_100]\n",
    "\n",
    "validation_err_10 = 1-model_10.score(X_val,y_val)\n",
    "validation_err_50 = 1-model_50.score(X_val,y_val)\n",
    "validation_err_100 = 1-model_100.score(X_val,y_val)\n",
    "\n",
    "validation_errors = [validation_err_10, validation_err_50, validation_err_100]\n",
    "\n",
    "\n",
    "plt.figure(figsize=(10,4))\n",
    "plt.plot([10, 50, 100], training_errors, linewidth=4.0, label='Training error')\n",
    "plt.plot([10, 50, 100], testing_errors, linewidth=4.0, label='Testing error')\n",
    "plt.title('Error vs number of trees')\n",
    "plt.xlabel('Number of trees')\n",
    "plt.ylabel('Classification error')\n",
    "plt.legend([\"Training error\",\"Testing error\"])\n",
    "plt.show()\n",
    "\n",
    "\n",
    "plt.figure(figsize=(10,4))\n",
    "plt.plot([10, 50, 100], training_errors, linewidth=4.0, label='Training error')\n",
    "plt.plot([10, 50, 100], validation_errors, linewidth=4.0, label='Validation error')\n",
    "plt.title('Error vs number of trees')\n",
    "plt.xlabel('Number of trees')\n",
    "plt.ylabel('Classification error')\n",
    "plt.legend([\"Training error\",\"Validation error\"])\n",
    "plt.show()\n",
    "\n"
   ]
  },
  {
   "cell_type": "markdown",
   "metadata": {
    "slideshow": {
     "slide_type": "slide"
    }
   },
   "source": [
    "<img src=\"../images/Recap.png\" alt=\"Recap\" style=\"width: 100px;float:left; margin-right:15px\"/>\n",
    "\n",
    "<br />\n",
    "\n",
    "# In-session Recap Time\n",
    "***\n",
    "* What is Boosting?\n",
    "* Intuitive understanding of Boosting\n",
    "* AdaBoost\n",
    "* Intuitive understanding of Gradient Boosting\n",
    "* Boosting in sklearn\n",
    "* XGBoost\n",
    "* Hyper parameter tuning of XGBoost"
   ]
  },
  {
   "cell_type": "markdown",
   "metadata": {
    "slideshow": {
     "slide_type": "slide"
    }
   },
   "source": [
    "# Thank You\n",
    "***\n",
    "### Next Session: Challenges in ML & Clustering Algorithm"
   ]
  }
 ],
 "metadata": {
  "celltoolbar": "Slideshow",
  "kernelspec": {
   "display_name": "Python 3",
   "language": "python",
   "name": "python3"
  },
  "language_info": {
   "codemirror_mode": {
    "name": "ipython",
    "version": 3
   },
   "file_extension": ".py",
   "mimetype": "text/x-python",
   "name": "python",
   "nbconvert_exporter": "python",
   "pygments_lexer": "ipython3",
   "version": "3.7.1"
  },
  "widgets": {
   "state": {},
   "version": "1.1.2"
  }
 },
 "nbformat": 4,
 "nbformat_minor": 2
}
